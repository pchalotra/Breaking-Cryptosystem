{
 "cells": [
  {
   "cell_type": "code",
   "execution_count": 1,
   "id": "cae599c3",
   "metadata": {},
   "outputs": [],
   "source": [
    "# importing required modules\n",
    "import operator"
   ]
  },
  {
   "cell_type": "code",
   "execution_count": 2,
   "id": "430c315f",
   "metadata": {},
   "outputs": [],
   "source": [
    "\n",
    "#Permutation matrix 1 for key schedule\n",
    "pc1=[                  \n",
    "  57, 49, 41, 33, 25, 17, 9,\n",
    "  1, 58, 50, 42, 34, 26, 18,\n",
    "  10,  2, 59, 51, 43, 35, 27,\n",
    "  19, 11,  3, 60, 52, 44, 36,\n",
    "  63, 55, 47, 39, 31, 23, 15, \n",
    "  7, 62, 54, 46, 38, 30, 22, \n",
    "  14,  6, 61, 53, 45, 37, 29, \n",
    "  21, 13,  5, 28, 20, 12,  4\n",
    "]\n",
    "\n",
    "#Permutation matrix 2 for key schedule\n",
    "pc2 = [                 \n",
    "  14, 17, 11, 24,  1, 5, \n",
    "  3, 28 ,15,  6, 21, 10, \n",
    "  23, 19, 12,  4, 26, 8, \n",
    "  16,  7, 27, 20, 13, 2, \n",
    "  41, 52, 31, 37, 47, 55, \n",
    "  30, 40, 51, 45, 33, 48, \n",
    "  44, 49, 39, 56, 34, 53, \n",
    "  46, 42, 50, 36, 29, 32\n",
    "]\n",
    "\n",
    "#Inverse of P\n",
    "INV_P = [9, 17, 23, 31,\n",
    "\t13, 28, 2, 18,\n",
    "\t24, 16, 30, 6,\n",
    "\t26, 20, 10, 1,\n",
    "\t8, 14, 25, 3,\n",
    "\t4, 29, 11, 19,\n",
    "\t32, 12, 22, 7,\n",
    "\t5, 27, 15, 21\n",
    "         ]\n",
    "# Table of Position of 64 bits at initail level: Initial Permutation Table \n",
    "initial_perm = [58,50,42, 34,26,18,10,2,\n",
    "  60,52,44,36,28,20,12,4,\n",
    "  62,54, 46, 38, 30, 22, 14,6,\n",
    "  64, 56, 48, 40,32,24, 16, 8,\n",
    "  57, 49, 41, 33,25,17, 9,1,\n",
    "  59, 51,43,35,27,19,11,3,\n",
    "  61,53,45,37,29,21,13, 5,\n",
    "  63,55, 47,39,31,23,15,7]  \n",
    "  \n",
    "# Expansion E-box Table \n",
    "exp_d = [32, 1, 2, 3, 4, 5,\n",
    "  4, 5,6, 7, 8, 9,\n",
    "  8, 9, 10, 11, 12, 13,\n",
    "  12, 13, 14, 15, 16, 17, \n",
    "  16, 17, 18, 19, 20, 21, \n",
    "  20, 21, 22, 23, 24, 25, \n",
    "  24, 25, 26, 27, 28, 29,\n",
    "  28, 29, 30, 31, 32, 1 ] \n",
    "  \n",
    "# Straight Permutaion Table \n",
    "per = [ 16, 7, 20, 21, \n",
    "  29, 12, 28, 17,\n",
    "  1, 15, 23, 26,\n",
    "  5, 18, 31,10,\n",
    "  2, 8, 24, 14,\n",
    "  32, 27, 3, 9,\n",
    "  19, 13, 30, 6,\n",
    "  22, 11, 4, 25 ] \n",
    "  \n",
    "# S-box Table \n",
    "sbox = [[[14, 4, 13, 1, 2, 15, 11, 8, 3 , 10, 6, 12, 5, 9, 0, 7],\n",
    "    [0, 15, 7, 4, 14, 2, 13, 1, 10, 6, 12, 11, 9, 5, 3, 8],\n",
    "    [4, 1 , 14, 8, 13, 6, 2, 11, 15, 12, 9, 7,3, 10, 5, 0],\n",
    "    [15, 12, 8,2,4, 9, 1,7 , 5, 11, 3, 14, 10, 0, 6, 13]],\n",
    "\n",
    "    [[15, 1, 8, 14, 6, 11, 3, 4, 9, 7, 2, 13, 12, 0,5, 10],\n",
    "    [3, 13, 4, 7, 15, 2, 8, 14, 12, 0, 1, 10, 6, 9, 11, 5],\n",
    "    [0, 14, 7, 11, 10, 4, 13, 1, 5, 8,12, 6, 9, 3, 2, 15],\n",
    "    [13, 8, 10, 1, 3, 15, 4, 2,11,6, 7, 12, 0,5, 14, 9]],\n",
    "\n",
    "    [[10, 0, 9,14,6,3,15,5, 1, 13, 12, 7, 11, 4,2,8],\n",
    "    [13, 7, 0, 9, 3, 4, 6, 10, 2, 8, 5, 14, 12, 11, 15, 1],\n",
    "    [13, 6, 4, 9, 8, 15, 3, 0, 11, 1, 2, 12,5, 10, 14, 7],\n",
    "    [1, 10, 13, 0, 6, 9, 8, 7, 4, 15, 14, 3, 11, 5, 2, 12]],\n",
    "\n",
    "    [[7, 13, 14, 3, 0, 6, 9, 10, 1, 2, 8, 5, 11, 12, 4, 15],\n",
    "    [13, 8, 11, 5, 6, 15, 0, 3, 4, 7, 2, 12, 1, 10, 14, 9],\n",
    "    [10, 6, 9, 0, 12, 11, 7, 13, 15, 1 , 3, 14, 5, 2, 8, 4],\n",
    "    [3, 15, 0, 6, 10, 1, 13, 8, 9, 4, 5, 11, 12, 7, 2, 14]],\n",
    "\n",
    "    [[2, 12, 4, 1, 7, 10, 11, 6, 8, 5, 3, 15, 13, 0, 14, 9],\n",
    "    [14, 11,2, 12, 4, 7, 13, 1, 5, 0, 15, 10, 3, 9, 8, 6],\n",
    "    [4, 2, 1, 11, 10, 13, 7, 8, 15, 9, 12, 5, 6, 3, 0, 14],\n",
    "    [11, 8, 12, 7, 1, 14, 2, 13, 6, 15, 0, 9, 10, 4, 5, 3]],\n",
    "\n",
    "    [[12, 1, 10, 15, 9, 2, 6,8, 0, 13, 3, 4, 14, 7, 5, 11],\n",
    "    [10, 15, 4, 2, 7, 12, 9, 5, 6, 1, 13, 14, 0, 11, 3, 8],\n",
    "    [9, 14, 15, 5, 2,8, 12, 3, 7, 0, 4, 10, 1, 13, 11, 6],\n",
    "    [4, 3, 2, 12, 9, 5, 15, 10, 11, 14, 1, 7, 6, 0, 8, 13]],\n",
    "\n",
    "    [[4, 11, 2, 14, 15, 0, 8, 13, 3, 12, 9, 7, 5, 10, 6, 1],\n",
    "    [13, 0, 11, 7, 4, 9, 1, 10, 14, 3, 5, 12, 2, 15, 8, 6],\n",
    "    [1, 4, 11, 13, 12, 3, 7, 14, 10, 15, 6, 8, 0, 5, 9, 2],\n",
    "    [6, 11, 13, 8, 1, 4, 10, 7, 9, 5, 0, 15, 14, 2, 3, 12]],\n",
    "\n",
    "    [[13, 2, 8, 4, 6, 15, 11, 1, 10, 9, 3, 14, 5, 0, 12,7],\n",
    "    [1, 15, 13, 8, 10, 3, 7, 4, 12, 5, 6, 11, 0, 14, 9, 2],\n",
    "    [7, 11, 4, 1, 9, 12, 14, 2, 0, 6, 10, 13, 15, 3, 5, 8],\n",
    "    [2, 1, 14, 7, 4, 10, 8, 13, 15, 12, 9, 0, 3, 5, 6, 11]]] \n",
    "    \n",
    "\n",
    "final_perm = [ 40, 8, 48, 16, 56, 24, 64, 32,  \n",
    "               39, 7, 47, 15, 55, 23, 63, 31,  \n",
    "               38, 6, 46, 14, 54, 22, 62, 30,  \n",
    "               37, 5, 45, 13, 53, 21, 61, 29,  \n",
    "               36, 4, 44, 12, 52, 20, 60, 28,  \n",
    "               35, 3, 43, 11, 51, 19, 59, 27,  \n",
    "               34, 2, 42, 10, 50, 18, 58, 26,  \n",
    "               33, 1, 41, 9, 49, 17, 57, 25 ] \n",
    "\n",
    "f2u_mapping={  'f' : '0000',\n",
    "               'g' : '0001',\n",
    "               'h' : '0010',\n",
    "               'i' : '0011',\n",
    "               'j' : '0100',\n",
    "               'k' : '0101',\n",
    "               'l' : '0110',\n",
    "               'm' : '0111',\n",
    "               'n' : '1000',\n",
    "               'o' : '1001',\n",
    "               'p' : '1010',\n",
    "               'q' : '1011',\n",
    "               'r' : '1100',\n",
    "               's': '1101',\n",
    "               't' : '1110',\n",
    "               'u': '1111'}\n",
    "\n",
    "\n",
    "# --parity bit drop table \n",
    "keyp = [57, 49, 41, 33, 25, 17, 9,  \n",
    "        1, 58, 50, 42, 34, 26, 18,  \n",
    "        10, 2, 59, 51, 43, 35, 27,  \n",
    "        19, 11, 3, 60, 52, 44, 36,  \n",
    "        63, 55, 47, 39, 31, 23, 15,  \n",
    "        7, 62, 54, 46, 38, 30, 22,  \n",
    "        14, 6, 61, 53, 45, 37, 29,  \n",
    "        21, 13, 5, 28, 20, 12, 4 ] \n",
    "\n",
    "\n",
    "RFP = [57, 49, 41, 33, 25, 17, 9,  1,\n",
    "       59, 51, 43, 35, 27, 19, 11, 3,\n",
    "       61, 53, 45, 37, 29, 21, 13, 5,\n",
    "       63, 55, 47, 39, 31, 23, 15, 7,\n",
    "       58, 50, 42, 34, 26, 18, 10, 2,\n",
    "       60, 52, 44, 36, 28, 20, 12, 4,\n",
    "       62, 54, 46, 38, 30, 22, 14, 6,\n",
    "       64, 56, 48, 40, 32, 24, 16, 8]\n",
    "\n",
    "#shift table \n",
    "shift_table = [1, 1, 2, 2,  \n",
    "                2, 2, 2, 2,  \n",
    "                1, 2, 2, 2,  \n",
    "                2, 2, 2, 1 ] \n",
    "  \n",
    "# Key- Compression Table : Compression of key from 56 bits to 48 bits \n",
    "key_comp = [14, 17, 11, 24, 1, 5,  \n",
    "            3, 28, 15, 6, 21, 10,  \n",
    "            23, 19, 12, 4, 26, 8,  \n",
    "            16, 7, 27, 20, 13, 2,  \n",
    "            41, 52, 31, 37, 47, 55,  \n",
    "            30, 40, 51, 45, 33, 48,  \n",
    "            44, 49, 39, 56, 34, 53,  \n",
    "            46, 42, 50, 36, 29, 32 ] \n",
    "  "
   ]
  },
  {
   "cell_type": "markdown",
   "id": "ad53c960",
   "metadata": {},
   "source": [
    "## Computing XORs at IN and OUT of S-boxes for characteristic 1"
   ]
  },
  {
   "cell_type": "code",
   "execution_count": 3,
   "id": "6429a3b3",
   "metadata": {},
   "outputs": [],
   "source": [
    "import numpy as np"
   ]
  },
  {
   "cell_type": "code",
   "execution_count": 4,
   "id": "b88e4210",
   "metadata": {},
   "outputs": [],
   "source": [
    "#create hex mapping of 16 letters present in ciphertext. f=0, g=1 ,so on...\n",
    "mapping = {\n",
    "           'f' : [0,0,0,0],\n",
    "           'g' : [0,0,0,1],\n",
    "           'h' : [0,0,1,0],\n",
    "           'i' : [0,0,1,1],\n",
    "           'j' : [0,1,0,0],\n",
    "           'k' : [0,1,0,1],\n",
    "           'l' : [0,1,1,0],\n",
    "           'm' : [0,1,1,1],\n",
    "           'n' : [1,0,0,0],\n",
    "           'o' : [1,0,0,1],\n",
    "           'p' : [1,0,1,0],\n",
    "           'q' : [1,0,1,1],\n",
    "           'r' : [1,1,0,0],\n",
    "           's' : [1,1,0,1],\n",
    "           't' : [1,1,1,0],\n",
    "           'u' : [1,1,1,1]\n",
    "           }"
   ]
  },
  {
   "cell_type": "code",
   "execution_count": 5,
   "id": "59263c79",
   "metadata": {},
   "outputs": [],
   "source": [
    "#list of all ciphertexts in hex as per mapping\n",
    "cipher=[]\n",
    "\n",
    "#read in the output file after encrypting plaintexts from input.txt\n",
    "lines = open(\"ciphertexts1.txt\").read().split(\"\\n\")\n",
    "\n",
    "for i in range(len(lines)):\n",
    "  #checking if a ciphertext is not of 16 letters\n",
    "    if(len(lines[i]) == 16):\n",
    "        #temp list\n",
    "        st=[]\n",
    "        for j in range(16):\n",
    "            st+=mapping[lines[i][j]]\n",
    "        cipher+=[st]    \n",
    "#print(cipher[0])"
   ]
  },
  {
   "cell_type": "code",
   "execution_count": 6,
   "id": "558c5c1f",
   "metadata": {},
   "outputs": [],
   "source": [
    "#applying inverse final permutation on each 64 (=16*4) bit ciphertext\n",
    "n=len(cipher)\n",
    "ifp_res = []\n",
    "for i in range(0,n):\n",
    "    ifp_res2 = []\n",
    "    for j in range(64):\n",
    "        ifp_res2+=[cipher[i][RFP[j]-1]]\n",
    "    ifp_res+=[ifp_res2]\n",
    "#print(ifp_res2[0:10])"
   ]
  },
  {
   "cell_type": "code",
   "execution_count": 7,
   "id": "20f25deb",
   "metadata": {},
   "outputs": [],
   "source": [
    "#XOR of inverse permuted ciphertext's result\n",
    "ifp_XOR=[]\n",
    "for i in range(0,n//2):\n",
    "    ifp_XOR+= [list(np.bitwise_xor(ifp_res[2*i+1],ifp_res[2*i]))]"
   ]
  },
  {
   "cell_type": "code",
   "execution_count": 8,
   "id": "67e15889",
   "metadata": {},
   "outputs": [],
   "source": [
    "#Expansion of R5\n",
    "exp_out=[]\n",
    "for i in range(0,n):\n",
    "    exp_out2=[]\n",
    "    for j in range(0,48):\n",
    "        exp_out2+=[ifp_res[i][exp_d[j]-1]]\n",
    "    exp_out+=[exp_out2]\n",
    "#print(exp_out[0])"
   ]
  },
  {
   "cell_type": "code",
   "execution_count": 9,
   "id": "fe5ce5e1",
   "metadata": {},
   "outputs": [],
   "source": [
    "#XOR of expanded outputs to find inputs to s-boxes\n",
    "sbox_in=[]\n",
    "for i in range(0,n//2):\n",
    "    sbox_in+= [list(np.bitwise_xor(exp_out[2*i+1],exp_out[2*i]))]\n",
    "#print(sbox_in[0])            "
   ]
  },
  {
   "cell_type": "code",
   "execution_count": 10,
   "id": "301e61ee",
   "metadata": {},
   "outputs": [],
   "source": [
    "#XOR of L5 and R6 from inverse permuted ciphertexts\n",
    "L5 = [0,0,0,0,0,1]+[0]*26\n",
    "xor_out=[]\n",
    "for i in range(0,len(ifp_XOR)):\n",
    "    xor_out+=[list(np.bitwise_xor(ifp_XOR[i][32:64],L5))]"
   ]
  },
  {
   "cell_type": "code",
   "execution_count": 11,
   "id": "4701babb",
   "metadata": {},
   "outputs": [],
   "source": [
    "#XOR of outputs after s-boxes\n",
    "sbox_out = []\n",
    "for i in range(0,len(xor_out)):\n",
    "    sbox_out2=[]\n",
    "    for j in range(0,32):\n",
    "        sbox_out2+=[xor_out[i][INV_P[j]-1]]\n",
    "    sbox_out+=[sbox_out2]"
   ]
  },
  {
   "cell_type": "code",
   "execution_count": 12,
   "id": "2b6c66d2",
   "metadata": {},
   "outputs": [],
   "source": [
    "#storing expanded outputs\n",
    "with open(\"exp_out1.txt\",\"w\") as f:\n",
    "    n1 = len(exp_out)\n",
    "    for i in range(0,n1):\n",
    "        if(i%2!=1):\n",
    "            temp=\"\"\n",
    "            for j in exp_out[i]:\n",
    "                temp+=str(j)\n",
    "            f.write(temp+\"\\n\")\n",
    "f.close()"
   ]
  },
  {
   "cell_type": "code",
   "execution_count": 13,
   "id": "ae856037",
   "metadata": {},
   "outputs": [],
   "source": [
    "#storing inputs to s-boxes\n",
    "with open(\"sbox_in1.txt\",\"w\") as f:\n",
    "    for i in sbox_in:\n",
    "        temp=\"\"\n",
    "        for j in i:\n",
    "            temp+=str(j)\n",
    "        f.write(temp+\"\\n\")\n",
    "f.close()"
   ]
  },
  {
   "cell_type": "code",
   "execution_count": 14,
   "id": "94971be4",
   "metadata": {},
   "outputs": [],
   "source": [
    "#storing outputs of s-boxes\n",
    "with open(\"sbox_out1.txt\",\"w\") as f:\n",
    "    for i in sbox_out:\n",
    "        temp=\"\"\n",
    "        for j in i:\n",
    "            temp+=str(j)\n",
    "        f.write(temp+\"\\n\")\n",
    "f.close()"
   ]
  },
  {
   "cell_type": "markdown",
   "id": "59b35176",
   "metadata": {},
   "source": [
    "## Finding the Keys for S-Boxes of Round 6 for characteristic 1"
   ]
  },
  {
   "cell_type": "code",
   "execution_count": 15,
   "id": "21752eac",
   "metadata": {},
   "outputs": [],
   "source": [
    "Keys = np.zeros((8,64))"
   ]
  },
  {
   "cell_type": "code",
   "execution_count": 16,
   "id": "3ca5acd8",
   "metadata": {},
   "outputs": [],
   "source": [
    "sbox_in=[]\n",
    "sbox_out=[]\n",
    "exp_out=[]\n",
    "sbox_in = open(\"sbox_in1.txt\").read().split(\"\\n\")\n",
    "sbox_out = open(\"sbox_out1.txt\").read().split(\"\\n\")\n",
    "exp_out = open(\"exp_out1.txt\").read().split(\"\\n\")"
   ]
  },
  {
   "cell_type": "code",
   "execution_count": 17,
   "id": "91e9e404",
   "metadata": {},
   "outputs": [],
   "source": [
    "for i in range(len(sbox_in)):\n",
    "    if sbox_in[i]==\"\":\n",
    "        continue     \n",
    "    for j in range(0,8):\n",
    "        inx = int(sbox_in[i][j*6:j*6+6], 2)\n",
    "        outx = int(sbox_out[i][j*4:j*4+4], 2)\n",
    "        inp_orig = int(exp_out[i][j*6:j*6+6], 2)\n",
    "        for k in range(0,64):\n",
    "            a = bin(k)[2:].zfill(6)\n",
    "            b = bin(k^inx)[2:].zfill(6)  \n",
    "            if outx == sbox[j][int(a[0])*2 + int(a[5])][int(a[4]) + 2 *int(a[3]) + int(a[2]) * 4 + int(a[1])*8]^sbox[j][int(b[0])*2 + int(b[5])][int(b[4]) + 2 *int(b[3]) + int(b[2]) * 4 + int(b[1])*8]:\n",
    "                key_cand = k^inp_orig\n",
    "                Keys[j][key_cand] = Keys[j][key_cand] + 1"
   ]
  },
  {
   "cell_type": "code",
   "execution_count": 18,
   "id": "d44f77ec",
   "metadata": {
    "scrolled": false
   },
   "outputs": [
    {
     "name": "stdout",
     "output_type": "stream",
     "text": [
      "[[187. 163. 161. 156. 180. 182. 180. 170. 183. 186. 170. 172. 209. 190.\n",
      "  172. 184. 168. 164. 154. 174. 162. 165. 166. 173. 185. 182. 142. 161.\n",
      "  167. 161. 160. 169. 161. 155. 165. 169. 173. 154. 172. 167. 193. 165.\n",
      "  156. 181. 198. 338. 191. 168. 182. 184. 177. 177. 163. 180. 174. 166.\n",
      "  165. 174. 158. 169. 174. 147. 174. 178.]\n",
      " [192. 182. 186. 183. 181. 212. 207. 201. 173. 192. 193. 194. 190. 202.\n",
      "  215. 182. 173. 203. 188. 229. 160. 190. 216. 197. 180. 191. 178. 192.\n",
      "  172. 193. 191. 172. 196. 175. 214. 226. 170. 180. 208. 213. 192. 181.\n",
      "  145. 184. 181. 201. 207. 209. 170. 207. 185. 789. 182. 182. 167. 224.\n",
      "  183. 197. 184. 189. 189. 198. 182. 206.]\n",
      " [153. 164. 161. 181. 150. 162. 167. 149. 169. 154. 171. 177. 161. 139.\n",
      "  139. 156. 182. 168. 138. 170. 200. 170. 151. 162. 170. 169. 158. 166.\n",
      "  178. 160. 149. 145. 155. 148. 168. 141. 172. 306. 163. 164. 181. 163.\n",
      "  166. 162. 174. 172. 174. 148. 140. 164. 194. 179. 145. 166. 167. 175.\n",
      "  194. 157. 182. 161. 149. 147. 144. 154.]\n",
      " [165. 171. 154. 179. 160. 155. 154. 280. 154. 136. 176. 147. 183. 176.\n",
      "  138. 152. 163. 172. 137. 173. 142. 155. 153. 157. 146. 167. 180. 183.\n",
      "  163. 163. 166. 187. 126. 145. 174. 165. 155. 161. 148. 176. 220. 211.\n",
      "  148. 169. 163. 159. 159. 179. 170. 175. 146. 186. 165. 161. 153. 174.\n",
      "  173. 164. 166. 164. 169. 156. 159. 158.]\n",
      " [183. 170. 193. 153. 215. 165. 189. 159. 179. 205. 157. 178. 187. 170.\n",
      "  168. 160. 147. 160. 198. 161. 161. 162. 165. 177. 148. 153. 188. 183.\n",
      "  166. 179. 190. 189. 186. 151. 164. 198. 154. 172. 181. 174. 161. 204.\n",
      "  179. 175. 167. 161. 186. 181. 178. 183. 153. 177. 191. 163. 187. 166.\n",
      "  175. 206. 138. 159. 401. 179. 183. 169.]\n",
      " [216. 165. 181. 205. 201. 172. 156. 182. 202. 162. 167. 168. 187. 179.\n",
      "  170. 179. 168. 193. 180. 171. 170. 162. 171. 179. 201. 181. 179. 175.\n",
      "  195. 201. 193. 173. 175. 191. 155. 180. 200. 184. 177. 200. 213. 162.\n",
      "  189. 208. 180. 192. 191. 183. 204. 173. 176. 193. 206. 166. 181. 176.\n",
      "  746. 217. 176. 180. 192. 157. 188. 199.]\n",
      " [170. 189. 167. 158. 158. 197. 183. 162. 181. 148. 168. 163. 174. 445.\n",
      "  163. 198. 180. 168. 160. 159. 182. 184. 141. 157. 148. 160. 157. 159.\n",
      "  163. 173. 181. 179. 154. 166. 151. 148. 153. 169. 187. 156. 160. 166.\n",
      "  172. 143. 168. 189. 168. 163. 164. 178. 157. 165. 156. 167. 152. 147.\n",
      "  163. 168. 166. 156. 161. 180. 190. 176.]\n",
      " [162. 177. 181. 164. 183. 162. 155. 170. 176. 178. 172. 180. 166. 190.\n",
      "  158. 144. 179. 148. 153. 177. 155. 168. 206. 160. 186. 162. 152. 170.\n",
      "  190. 184. 190. 154. 191. 179. 168. 182. 164. 157. 179. 174. 164. 185.\n",
      "  171. 171. 183. 173. 170. 146. 188. 160. 179. 184. 164. 175. 452. 210.\n",
      "  148. 172. 179. 162. 167. 174. 193. 174.]]\n"
     ]
    }
   ],
   "source": [
    "print(Keys)"
   ]
  },
  {
   "cell_type": "code",
   "execution_count": 19,
   "id": "2b3b9629",
   "metadata": {},
   "outputs": [
    {
     "name": "stdout",
     "output_type": "stream",
     "text": [
      "S-box\tMax\tMean\tKey\tDiff\n",
      "S1\t338\t174\t45\t164\n",
      "S2\t789\t200\t51\t589\n",
      "S3\t306\t165\t37\t141\n",
      "S4\t280\t165\t7\t115\n",
      "S5\t401\t178\t60\t223\n",
      "S6\t746\t192\t56\t554\n",
      "S7\t445\t171\t13\t274\n",
      "S8\t452\t176\t54\t276\n"
     ]
    }
   ],
   "source": [
    "maxval = []\n",
    "mean = []\n",
    "keyval = []\n",
    "for i in Keys:\n",
    "    index, value = max(enumerate(i), key=operator.itemgetter(1))\n",
    "    maxval+=[int(value)]\n",
    "    keyval+=[index]\n",
    "    mean+=[int(round(np.mean(i)))]\n",
    "print(\"S-box\"+ \"\\t\" +\"Max\" + \"\\t\" + \"Mean\" + \"\\t\" + \"Key\" + \"\\t\" + \"Diff\")\n",
    "for i in range(0,8):\n",
    "    print(\"S\"+ str(i+1) +\"\\t\"+ str(maxval[i]) + \"\\t\" + str(mean[i]) + \"\\t\" + str(keyval[i]) + \"\\t\"  + str(maxval[i]-mean[i]))"
   ]
  },
  {
   "cell_type": "markdown",
   "id": "a80c91ef",
   "metadata": {},
   "source": [
    "## Computing XORs at IN and OUT of S-boxes for characteristic 2"
   ]
  },
  {
   "cell_type": "code",
   "execution_count": 20,
   "id": "c6d2c3ac",
   "metadata": {},
   "outputs": [],
   "source": [
    "#list of all ciphertexts in hex as per mapping\n",
    "cipher=[]\n",
    "#read in the output file after encrypting plaintexts from input.txt\n",
    "lines = open(\"ciphertexts2.txt\").read().split(\"\\n\")\n",
    "\n",
    "n=len(lines)\n",
    "for i in range(0,n):\n",
    "  #checking if a ciphertext is not of 16 letters\n",
    "    if(len(lines[i]) == 16):\n",
    "        #temp list\n",
    "        st=[]\n",
    "        for j in range(16):\n",
    "            st+=mapping[lines[i][j]]\n",
    "        cipher+=[st]    \n",
    "#print(cipher[0])"
   ]
  },
  {
   "cell_type": "code",
   "execution_count": 21,
   "id": "5673a54b",
   "metadata": {},
   "outputs": [],
   "source": [
    "#applying inverse final permutation on each 64 (=16*4) bit ciphertext\n",
    "n=len(cipher)\n",
    "ifp_res = []\n",
    "for i in range(0,n):\n",
    "    ifp_res2 = []\n",
    "    for j in range(64):\n",
    "        ifp_res2+=[cipher[i][RFP[j]-1]]\n",
    "    ifp_res+=[ifp_res2]\n",
    "#print(ifp_res2[0:10])"
   ]
  },
  {
   "cell_type": "code",
   "execution_count": 22,
   "id": "7f15ddf9",
   "metadata": {},
   "outputs": [],
   "source": [
    "#XOR of inverse permuted ciphertext's result\n",
    "ifp_XOR=[]\n",
    "for i in range(0,n//2):\n",
    "    ifp_XOR+= [list(np.bitwise_xor(ifp_res[2*i+1],ifp_res[2*i]))]"
   ]
  },
  {
   "cell_type": "code",
   "execution_count": 23,
   "id": "e9aa992d",
   "metadata": {},
   "outputs": [],
   "source": [
    "#Expansion of R5\n",
    "exp_out=[]\n",
    "for i in range(0,n):\n",
    "    exp_out2=[]\n",
    "    for j in range(0,48):\n",
    "        exp_out2+=[ifp_res[i][exp_d[j]-1]]\n",
    "    exp_out+=[exp_out2]\n",
    "#print(exp_out[0])"
   ]
  },
  {
   "cell_type": "code",
   "execution_count": 24,
   "id": "2a5a8e9e",
   "metadata": {},
   "outputs": [],
   "source": [
    "#XOR of expanded outputs to find inputs to s-boxes\n",
    "sbox_in=[]\n",
    "for i in range(0,n//2):\n",
    "    sbox_in+= [list(np.bitwise_xor(exp_out[2*i+1],exp_out[2*i]))]\n",
    "#print(sbox_in[0])            "
   ]
  },
  {
   "cell_type": "code",
   "execution_count": 25,
   "id": "18a039a7",
   "metadata": {},
   "outputs": [],
   "source": [
    "#XOR of L5 and R6 from inverse permuted ciphertexts\n",
    "L5 = [0,0,0,0,0,0,0,0,0,0,0,0,0,0,0,0,0,0,0,0,0,1,0,0,0,0,0,0,0,0,0,0]\n",
    "# print(len(L5))\n",
    "xor_out=[]\n",
    "for i in range(0,len(ifp_XOR)):\n",
    "    xor_out+=[list(np.bitwise_xor(ifp_XOR[i][32:64],L5))]"
   ]
  },
  {
   "cell_type": "code",
   "execution_count": 26,
   "id": "90e2d633",
   "metadata": {},
   "outputs": [],
   "source": [
    "#XOR of outputs after s-boxes\n",
    "sbox_out = []\n",
    "for i in range(0,len(xor_out)):\n",
    "    sbox_out2=[]\n",
    "    for j in range(0,32):\n",
    "        sbox_out2+=[xor_out[i][INV_P[j]-1]]\n",
    "    sbox_out+=[sbox_out2]"
   ]
  },
  {
   "cell_type": "code",
   "execution_count": 27,
   "id": "5f6bc331",
   "metadata": {},
   "outputs": [],
   "source": [
    "#storing expanded outputs\n",
    "with open(\"exp_out2.txt\",\"w\") as f:\n",
    "    n1 = len(exp_out)\n",
    "    for i in range(0,n1):\n",
    "        if(i%2!=1):\n",
    "            temp=\"\"\n",
    "            for j in exp_out[i]:\n",
    "                temp+=str(j)\n",
    "            f.write(temp+\"\\n\")\n",
    "f.close()"
   ]
  },
  {
   "cell_type": "code",
   "execution_count": 28,
   "id": "7ada8c18",
   "metadata": {},
   "outputs": [],
   "source": [
    "#storing inputs to s-boxes\n",
    "with open(\"sbox_in2.txt\",\"w\") as f:\n",
    "    for i in sbox_in:\n",
    "        temp=\"\"\n",
    "        for j in i:\n",
    "            temp+=str(j)\n",
    "        f.write(temp+\"\\n\")\n",
    "f.close()"
   ]
  },
  {
   "cell_type": "code",
   "execution_count": 29,
   "id": "01599274",
   "metadata": {},
   "outputs": [],
   "source": [
    "#storing outputs of s-boxes\n",
    "with open(\"sbox_out2.txt\",\"w\") as f:\n",
    "    for i in sbox_out:\n",
    "        temp=\"\"\n",
    "        for j in i:\n",
    "            temp+=str(j)\n",
    "        f.write(temp+\"\\n\")\n",
    "f.close()"
   ]
  },
  {
   "cell_type": "markdown",
   "id": "a0caf662",
   "metadata": {},
   "source": [
    "## Finding the Keys for S-Boxes of Round 6 for characteristic 2"
   ]
  },
  {
   "cell_type": "code",
   "execution_count": 30,
   "id": "81ef24ea",
   "metadata": {},
   "outputs": [],
   "source": [
    "Keys = np.zeros((8,64))"
   ]
  },
  {
   "cell_type": "code",
   "execution_count": 31,
   "id": "26cc16b6",
   "metadata": {},
   "outputs": [],
   "source": [
    "sbox_in=[]\n",
    "sbox_out=[]\n",
    "exp_out=[]\n",
    "sbox_in = open(\"sbox_in2.txt\").read().split(\"\\n\")\n",
    "sbox_out = open(\"sbox_out2.txt\").read().split(\"\\n\")\n",
    "exp_out = open(\"exp_out2.txt\").read().split(\"\\n\")"
   ]
  },
  {
   "cell_type": "code",
   "execution_count": 32,
   "id": "351d7462",
   "metadata": {},
   "outputs": [],
   "source": [
    "for i in range(len(sbox_in)):\n",
    "    if sbox_in[i]==\"\":\n",
    "        continue     \n",
    "    for j in range(0,8):\n",
    "        inx = int(sbox_in[i][j*6:j*6+6], 2)\n",
    "        outx = int(sbox_out[i][j*4:j*4+4], 2)\n",
    "        inp_orig = int(exp_out[i][j*6:j*6+6], 2)\n",
    "        for k in range(0,64):\n",
    "            a = bin(k)[2:].zfill(6)\n",
    "            b = bin(k^inx)[2:].zfill(6)  \n",
    "            if outx == sbox[j][int(a[0])*2 + int(a[5])][int(a[4]) + 2 *int(a[3]) + int(a[2]) * 4 + int(a[1])*8]^sbox[j][int(b[0])*2 + int(b[5])][int(b[4]) + 2 *int(b[3]) + int(b[2]) * 4 + int(b[1])*8]:\n",
    "                key_cand = k^inp_orig\n",
    "                Keys[j][key_cand] = Keys[j][key_cand] + 1"
   ]
  },
  {
   "cell_type": "code",
   "execution_count": 33,
   "id": "3ba1d9e0",
   "metadata": {
    "scrolled": false
   },
   "outputs": [
    {
     "name": "stdout",
     "output_type": "stream",
     "text": [
      "[[157. 157. 162. 152. 160. 175. 178. 168. 173. 175. 178. 174. 186. 162.\n",
      "  158. 148. 165. 162. 149. 183. 175. 173. 154. 163. 208. 180. 173. 149.\n",
      "  172. 151. 167. 145. 174. 177. 146. 163. 195. 184. 157. 184. 163. 152.\n",
      "  181. 170. 155. 408. 159. 146. 165. 171. 171. 174. 159. 182. 165. 155.\n",
      "  148. 173. 173. 166. 162. 189. 170. 157.]\n",
      " [160. 162. 167. 189. 181. 176. 181. 171. 148. 168. 183. 184. 169. 166.\n",
      "  191. 199. 163. 163. 187. 191. 168. 184. 177. 201. 193. 181. 180. 177.\n",
      "  179. 161. 171. 160. 156. 182. 173. 163. 173. 168. 177. 174. 176. 161.\n",
      "  173. 194. 165. 168. 176. 182. 180. 161. 197. 417. 160. 172. 179. 203.\n",
      "  173. 173. 180. 172. 172. 180. 153. 162.]\n",
      " [146. 160. 167. 147. 144. 168. 163. 159. 151. 171. 165. 167. 160. 157.\n",
      "  178. 167. 170. 170. 160. 162. 146. 170. 172. 164. 155. 151. 162. 171.\n",
      "  181. 160. 151. 175. 198. 157. 157. 168. 157. 314. 162. 185. 168. 178.\n",
      "  167. 164. 191. 178. 165. 189. 179. 160. 178. 151. 180. 184. 175. 191.\n",
      "  167. 196. 170. 163. 163. 172. 170. 165.]\n",
      " [209. 216. 219. 199. 164. 178. 305. 731. 160. 173. 158. 166. 214. 197.\n",
      "  165. 173. 217. 178. 187. 230. 177. 213. 207. 194. 232. 193. 187. 208.\n",
      "  164. 155. 198. 205. 178. 184. 189. 176. 165. 176. 200. 242. 310. 267.\n",
      "  183. 173. 209. 229. 165. 175. 197. 198. 188. 211. 159. 208. 204. 175.\n",
      "  213. 216. 182. 184. 219. 166. 201. 196.]\n",
      " [175. 180. 149. 157. 172. 177. 182. 148. 170. 168. 161. 162. 163. 165.\n",
      "  160. 175. 168. 168. 177. 170. 168. 158. 187. 188. 151. 153. 192. 166.\n",
      "  145. 176. 188. 172. 160. 171. 157. 162. 178. 170. 186. 170. 163. 179.\n",
      "  184. 183. 179. 176. 180. 179. 167. 189. 168. 180. 181. 199. 166. 146.\n",
      "  153. 173. 197. 153. 443. 193. 167. 179.]\n",
      " [190. 187. 193. 192. 220. 187. 197. 182. 204. 181. 190. 202. 189. 166.\n",
      "  188. 180. 196. 196. 177. 178. 177. 169. 182. 182. 205. 183. 192. 157.\n",
      "  211. 178. 189. 159. 163. 166. 171. 199. 181. 172. 167. 192. 192. 158.\n",
      "  182. 208. 166. 173. 203. 169. 214. 162. 174. 182. 216. 207. 193. 169.\n",
      "  749. 222. 195. 159. 193. 170. 192. 182.]\n",
      " [156. 149. 161. 162. 149. 154. 169. 143. 146. 151. 184. 159. 157. 283.\n",
      "  154. 137. 174. 141. 135. 170. 165. 157. 160. 168. 131. 155. 148. 165.\n",
      "  172. 133. 142. 153. 161. 143. 142. 166. 183. 160. 143. 133. 179. 136.\n",
      "  176. 141. 166. 173. 151. 163. 160. 166. 176. 149. 182. 166. 152. 162.\n",
      "  150. 152. 153. 164. 177. 150. 149. 153.]\n",
      " [179. 155. 177. 141. 188. 163. 160. 164. 151. 149. 162. 189. 155. 152.\n",
      "  166. 155. 153. 163. 177. 159. 183. 160. 158. 158. 171. 155. 155. 184.\n",
      "  193. 139. 168. 163. 164. 158. 170. 161. 153. 172. 150. 156. 175. 135.\n",
      "  170. 143. 171. 174. 159. 171. 150. 158. 158. 161. 171. 174. 247. 191.\n",
      "  147. 146. 157. 173. 190. 151. 164. 145.]]\n"
     ]
    }
   ],
   "source": [
    "print(Keys)"
   ]
  },
  {
   "cell_type": "code",
   "execution_count": 34,
   "id": "c9df0b8b",
   "metadata": {
    "scrolled": false
   },
   "outputs": [
    {
     "name": "stdout",
     "output_type": "stream",
     "text": [
      "S-box\tMax\tMean\tKey\tDiff\n",
      "S1\t408\t171\t45\t237\n",
      "S2\t417\t179\t51\t238\n",
      "S3\t314\t170\t37\t144\n",
      "S4\t731\t205\t7\t526\n",
      "S5\t443\t175\t60\t268\n",
      "S6\t749\t194\t56\t555\n",
      "S7\t283\t159\t13\t124\n",
      "S8\t247\t164\t54\t83\n"
     ]
    }
   ],
   "source": [
    "maxval = []\n",
    "mean = []\n",
    "keyval = []\n",
    "for i in Keys:\n",
    "    index, value = max(enumerate(i), key=operator.itemgetter(1))\n",
    "    maxval+=[int(value)]\n",
    "    keyval+=[index]\n",
    "    mean+=[int(round(np.mean(i)))]\n",
    "print(\"S-box\"+ \"\\t\" +\"Max\" + \"\\t\" + \"Mean\" + \"\\t\" + \"Key\" + \"\\t\" + \"Diff\")\n",
    "for i in range(0,8):\n",
    "    print(\"S\"+ str(i+1) +\"\\t\"+ str(maxval[i]) + \"\\t\" + str(mean[i]) + \"\\t\" + str(keyval[i]) + \"\\t\"  + str(maxval[i]-mean[i]))"
   ]
  },
  {
   "cell_type": "markdown",
   "id": "ad182a4f",
   "metadata": {},
   "source": [
    "## Finding the Master Key"
   ]
  },
  {
   "cell_type": "code",
   "execution_count": 35,
   "id": "456dd2da",
   "metadata": {},
   "outputs": [
    {
     "name": "stdout",
     "output_type": "stream",
     "text": [
      "X11XX1XX01011X100XX11X11000X0000111X01111000X11X1111X001\n"
     ]
    }
   ],
   "source": [
    "s_box_key=\"101101110011XXXXXX000111111100111000001101110110\" #Key obtained so far from S boxes\n",
    "Master_key=['X']*56\n",
    "\n",
    "for i in range(len(s_box_key)):\n",
    "    Master_key[pc2[i]-1]=s_box_key[i]             \n",
    "shifts=[1, 1, 2, 2, 2, 2, 2, 2, 1, 2, 2, 2, 2, 2, 2, 1]     \n",
    "for i in range(0,6):\n",
    "    for j in range(shifts[i]):\n",
    "        temp2=Master_key[27]\n",
    "        temp1=Master_key[55]\n",
    "        for k in range(27,0,-1):\n",
    "            Master_key[k]=Master_key[k-1]\n",
    "            Master_key[k+28]=Master_key[k+27]\n",
    "        Master_key[0]=temp2\n",
    "        Master_key[28]=temp1\n",
    "print(\"\".join(Master_key))\n"
   ]
  },
  {
   "cell_type": "markdown",
   "id": "7df5fe90",
   "metadata": {},
   "source": [
    "## Generating all possible keys using the obtained Master Key"
   ]
  },
  {
   "cell_type": "code",
   "execution_count": 36,
   "id": "09bd2971",
   "metadata": {},
   "outputs": [],
   "source": [
    "#Master key : X11XX1XX01011X100XX11X11000X0000111X01111000X11X1111X001\n",
    "possible=[]\n",
    "for i in range(0,2**14):\n",
    "    possible.append(str(i//8192%2)+'11'+str(i//4096%2)+str(i//2048%2)+'1' + str(i//1024%2)+ str(i//512%2)+'01011'+str(i//256%2)+'100'+str(i//128%2) + str(i//64%2)+'11'+str(i//32%2)+'11000' + str(i//16%2) + \"0000111\" + str(i//8%2)+'01111000' + str(i//4%2) + \"11\" + str(i//2%2) + '1111' + str(i%2) + \"001\" + '\\n')"
   ]
  },
  {
   "cell_type": "code",
   "execution_count": 37,
   "id": "ef386459",
   "metadata": {},
   "outputs": [
    {
     "data": {
      "text/plain": [
       "16384"
      ]
     },
     "execution_count": 37,
     "metadata": {},
     "output_type": "execute_result"
    }
   ],
   "source": [
    "len(possible)"
   ]
  },
  {
   "cell_type": "markdown",
   "id": "b35a5217",
   "metadata": {},
   "source": [
    "## Brute Force to find the Actual Key"
   ]
  },
  {
   "cell_type": "code",
   "execution_count": 38,
   "id": "73b2a60d",
   "metadata": {},
   "outputs": [],
   "source": [
    "def generate_round_keys(k, ro):\n",
    "    l=k[0:28]     \n",
    "    r=k[28:56]  \n",
    "\n",
    "    #binary round keys\n",
    "    kb = []\n",
    "    #hex round keys\n",
    "    kh  = []\n",
    "    for i in range(0,ro): \n",
    "        #shift bits by n using shift table \n",
    "        l = shift_left(l, shift_table[i]) \n",
    "        r = shift_left(r, shift_table[i]) \n",
    "\n",
    "        #merge\n",
    "        mer=l+r \n",
    "\n",
    "        #compress key from 56 to 48 bits using key compression table\n",
    "        kb+=[permute(mer, key_comp, 48)] \n",
    "        kh+=[bin2hex(permute(mer, key_comp, 48))]\n",
    "    return kb"
   ]
  },
  {
   "cell_type": "code",
   "execution_count": 39,
   "id": "32aa4bf7",
   "metadata": {},
   "outputs": [],
   "source": [
    "def encrypt(pt, kb,ro):  \n",
    "    # Initial Permutation \n",
    "    pt = permute(pt, initial_perm, 64)\n",
    "      \n",
    "    #break into left and right half\n",
    "    l = pt[0:32] \n",
    "    r= pt[32:64] \n",
    "    for i in range(0,ro): \n",
    "        #expand 32 bits to 48 \n",
    "        r_exp = permute(r, exp_d, 48) \n",
    "          \n",
    "        #XOR ith roundkey and r_exp  \n",
    "        r_xor = xor(r_exp,kb[i]) \n",
    "\n",
    "        #substituting the value from s-box table by calculating row and column  \n",
    "        sbox_st = \"\" \n",
    "        for j in range(0,8): \n",
    "            row = bin2dec(int(r_xor[j*6] + r_xor[j*6+5])) \n",
    "            col = bin2dec(int(r_xor[j*6+1] + r_xor[j*6+2] + r_xor[j*6+3] + r_xor[j*6+4])) \n",
    "            value = sbox[j][row][col] \n",
    "            sbox_st = sbox_st+dec2bin(value) \n",
    "              \n",
    "        #rearrange bits   \n",
    "        sbox_st = permute(sbox_st, per, 32) \n",
    "          \n",
    "        #XOR left half and sbox_st \n",
    "        res= xor(l, sbox_st) \n",
    "        l = res        \n",
    "        if(i!=5): \n",
    "            temp = l\n",
    "            l = r\n",
    "            r = temp\n",
    "  \n",
    "    #merge\n",
    "    mer=l+r \n",
    "      \n",
    "    #rearrange bits to get ciphertext \n",
    "    ciphertext = permute(mer, final_perm, 64) \n",
    "    return ciphertext"
   ]
  },
  {
   "cell_type": "code",
   "execution_count": 40,
   "id": "0a1ecda3",
   "metadata": {},
   "outputs": [],
   "source": [
    "# shifting the bits towards left by nth shifts \n",
    "def shift_left(k, nth_shifts):\n",
    "    return k[nth_shifts:] + k[:nth_shifts]\n"
   ]
  },
  {
   "cell_type": "code",
   "execution_count": 41,
   "id": "5aae1e22",
   "metadata": {},
   "outputs": [],
   "source": [
    "# Permute function to rearrange the bits \n",
    "def permute(k, arr, n): \n",
    "    permutation = \"\" \n",
    "    for i in range(n): \n",
    "        permutation = permutation + k[arr[i] - 1] \n",
    "    return permutation "
   ]
  },
  {
   "cell_type": "code",
   "execution_count": 42,
   "id": "e1a7efde",
   "metadata": {},
   "outputs": [],
   "source": [
    "# Function for Binary to hexadecimal conversion \n",
    "def bin2hex(s):\n",
    "    binary = int(s, 2)\n",
    "    hexadecimal = hex(binary).replace(\"0x\", \"\")\n",
    "    return hexadecimal.upper()\n"
   ]
  },
  {
   "cell_type": "code",
   "execution_count": 43,
   "id": "a6eb6298",
   "metadata": {},
   "outputs": [],
   "source": [
    "# calculating xor of two strings of binary number a and b \n",
    "def xor(a, b):\n",
    "    return ''.join(['0' if x == y else '1' for x, y in zip(a, b)])\n"
   ]
  },
  {
   "cell_type": "code",
   "execution_count": 44,
   "id": "58e5ebdb",
   "metadata": {},
   "outputs": [],
   "source": [
    "# Function for Binary to decimal conversion \n",
    "def bin2dec(binary):\n",
    "    decimal = 0\n",
    "    power = 0\n",
    "    while binary > 0:\n",
    "        bit = binary % 10\n",
    "        if bit == 1:\n",
    "            decimal += 2 ** power\n",
    "        power += 1\n",
    "        binary //= 10\n",
    "    return decimal\n"
   ]
  },
  {
   "cell_type": "code",
   "execution_count": 45,
   "id": "88c01f58",
   "metadata": {},
   "outputs": [],
   "source": [
    "# Function for Decimal to binary conversion \n",
    "def dec2bin(num):  \n",
    "    res = bin(num).replace(\"0b\", \"\") \n",
    "    if(len(res)%4 != 0): \n",
    "        div = len(res) / 4\n",
    "        div = int(div) \n",
    "        counter =(4 * (div + 1)) - len(res)  \n",
    "        for i in range(0, counter): \n",
    "            res = '0' + res \n",
    "    return res "
   ]
  },
  {
   "cell_type": "code",
   "execution_count": 46,
   "id": "04ad12b5",
   "metadata": {},
   "outputs": [
    {
     "name": "stdout",
     "output_type": "stream",
     "text": [
      "The Key is:  01101110010111100111101100000000111001111000111011111001\n",
      " \n",
      "\n"
     ]
    }
   ],
   "source": [
    "mainkey=''\n",
    "bin_pt = \"\"\n",
    "for i in \"fghijklmnopqrstu\":\n",
    "    bin_pt += f2u_mapping[i]\n",
    "bin_ct = \"\"\n",
    "for i in \"piihftijqhlksnsp\":\n",
    "    bin_ct += f2u_mapping[i]\n",
    "    \n",
    "for k in possible:\n",
    "#     print(k)\n",
    "    kb = generate_round_keys(k,6)\n",
    "    if(encrypt(bin_pt,kb,6) == bin_ct):\n",
    "        mainkey=k\n",
    "        print(\"The Key is: \" , k,'\\n')\n",
    "        break\n",
    "\n"
   ]
  },
  {
   "cell_type": "markdown",
   "id": "a0ab77f7",
   "metadata": {},
   "source": [
    "## Finding the keys for All Rounds using the Actual Key"
   ]
  },
  {
   "cell_type": "code",
   "execution_count": 47,
   "id": "9ef5b171",
   "metadata": {},
   "outputs": [
    {
     "name": "stdout",
     "output_type": "stream",
     "text": [
      "Round 1  111011000100111100000111010101011111111010101001\n",
      "Round 2  011011110011011101100010001110001111111000001101\n",
      "Round 3  111010101101010011101101111110100101010010110110\n",
      "Round 4  110110011100001101011010100011010110101110101011\n",
      "Round 5  001001001101101110111011101101100111101001010001\n",
      "Round 6  101101110011100101000111111100111000001101110110\n"
     ]
    }
   ],
   "source": [
    "key='01101110010111100111101100000000111001111000111011111001'\n",
    "l = key[0:28]     \n",
    "r = key[28:56]  \n",
    "\n",
    "#binary round keys\n",
    "kb = []\n",
    "for i in range(0,6): \n",
    "    #shift bits by n using shift table \n",
    "    l = shift_left(l, shift_table[i]) \n",
    "    r = shift_left(r, shift_table[i]) \n",
    "\n",
    "    #merge\n",
    "    mer=l+r \n",
    "\n",
    "    #compress key from 56 to 48 bits using key compression table\n",
    "    kb.append(permute(mer, key_comp, 48))\n",
    "    print(\"Round \"  + str(i+1) +\"  \"+kb[i])\n"
   ]
  },
  {
   "cell_type": "code",
   "execution_count": 48,
   "id": "0c61de3e",
   "metadata": {},
   "outputs": [
    {
     "name": "stdout",
     "output_type": "stream",
     "text": [
      "tk 229\n",
      "mn 120\n",
      "so 217\n",
      "ml 118\n",
      "kk 85\n",
      "ti 227\n",
      "kp 90\n",
      "rp 202\n",
      "gk 21\n",
      "gj 20\n",
      "ti 227\n",
      "ki 83\n",
      "ri 195\n",
      "qr 188\n",
      "kk 85\n",
      "ll 102\n"
     ]
    }
   ],
   "source": [
    "## Convert main cipher text to decimal values\n",
    "\n",
    "password = 'tkmnsomlkktikprpgkgjtikiriqrkkll'\n",
    "\n",
    "for i in range(0,len(password),2):\n",
    "    a = f2u_mapping[password[i]]+f2u_mapping[password[i+1]]\n",
    "    b = int(a,2)\n",
    "    print(password[i:i+2],b)"
   ]
  },
  {
   "cell_type": "code",
   "execution_count": null,
   "id": "f13e7d72",
   "metadata": {},
   "outputs": [],
   "source": []
  }
 ],
 "metadata": {
  "kernelspec": {
   "display_name": "Python 3 (ipykernel)",
   "language": "python",
   "name": "python3"
  },
  "language_info": {
   "codemirror_mode": {
    "name": "ipython",
    "version": 3
   },
   "file_extension": ".py",
   "mimetype": "text/x-python",
   "name": "python",
   "nbconvert_exporter": "python",
   "pygments_lexer": "ipython3",
   "version": "3.10.5"
  }
 },
 "nbformat": 4,
 "nbformat_minor": 5
}
