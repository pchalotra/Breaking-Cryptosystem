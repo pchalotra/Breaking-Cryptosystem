{
 "cells": [
  {
   "cell_type": "code",
   "execution_count": 1,
   "id": "31802d2e",
   "metadata": {},
   "outputs": [],
   "source": [
    "a = ['f','g','h','i','j','k','l','m','n','o','p','q','r','s','t','u']\n",
    "text = []\n",
    "for x in range(8):\n",
    "    temp = []\n",
    "    for i in range(8):\n",
    "        for j in range(16):\n",
    "            st = 'ff'*x + a[i]+a[j] + 'ff'*(8-1-x)\n",
    "            temp.append(st)\n",
    "    text.append(temp)\n",
    "\n",
    "file = open('plaintexts.txt','w')\n",
    "for i in text:\n",
    "    st = ' '.join(i) + '\\n'\n",
    "    file.write(st)\n",
    "file.close()"
   ]
  },
  {
   "cell_type": "code",
   "execution_count": null,
   "id": "ce6a9a98",
   "metadata": {},
   "outputs": [],
   "source": []
  }
 ],
 "metadata": {
  "kernelspec": {
   "display_name": "Python 3 (ipykernel)",
   "language": "python",
   "name": "python3"
  },
  "language_info": {
   "codemirror_mode": {
    "name": "ipython",
    "version": 3
   },
   "file_extension": ".py",
   "mimetype": "text/x-python",
   "name": "python",
   "nbconvert_exporter": "python",
   "pygments_lexer": "ipython3",
   "version": "3.10.5"
  }
 },
 "nbformat": 4,
 "nbformat_minor": 5
}
