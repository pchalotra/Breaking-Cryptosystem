{
 "cells": [
  {
   "cell_type": "code",
   "execution_count": 1,
   "id": "3a710322",
   "metadata": {},
   "outputs": [],
   "source": [
    "import numpy as np\n",
    "from pyfinite import ffield\n",
    "import galois"
   ]
  },
  {
   "cell_type": "code",
   "execution_count": 2,
   "id": "36177c0f",
   "metadata": {},
   "outputs": [],
   "source": [
    "expo = [[-1]*128 for i in range(128)]\n",
    "F = ffield.FField(7, gen=0x83, useLUT=-1)"
   ]
  },
  {
   "cell_type": "code",
   "execution_count": 3,
   "id": "c07e6c03",
   "metadata": {},
   "outputs": [],
   "source": [
    "def compute_power(element, power):\n",
    "    if(expo[element][power]!=-1):\n",
    "        return expo[element][power]\n",
    "    val=1 if (power==0) else element if(power==1)  else F.Multiply(element,F.Multiply(compute_power(element,power//2),compute_power(element,power//2))) if(power%2 == 1)  else F.Multiply(compute_power(element,power//2),compute_power(element,power//2)) \n",
    "    expo[element][power]=val\n",
    "    return val\n",
    "\n",
    "\n",
    "def Linear_Transformation(matrix, elements):\n",
    "    val=[0]*8\n",
    "    for row, ele in zip(matrix, elements):\n",
    "        temp = [F.Multiply(e,ele) for i, e in enumerate(row)]\n",
    "        val= [F.Add(ele1, ele2) for i, (ele1, ele2) in enumerate(zip(temp, val))]\n",
    "    return val\n",
    "\n",
    "\n",
    "\n",
    "def hex_to_ascii(cipher_text):\n",
    "    len_cipher_text = len(cipher_text)\n",
    "    if len_cipher_text != 16:\n",
    "        print(\"Length of ciphertext is not equal to 16 for cipher : %s\" %cipher)\n",
    "        exit(0)\n",
    "    plaintext = \"\".join([chr(16*(ord(cipher_text[i:i+2][0]) - ord('f')) + ord(cipher_text[i:i+2][1]) - ord('f')) for i in range(0,len_cipher_text,2)])\n",
    "    return plaintext\n"
   ]
  },
  {
   "cell_type": "code",
   "execution_count": 4,
   "id": "286d19e4",
   "metadata": {},
   "outputs": [],
   "source": [
    "E_Candidates = [[] for i in range(8)]\n",
    "A_Candidates=[[[] for i in range(8)] for i in range(8)]\n",
    "\n",
    "with open(\"plaintexts.txt\", 'r') as plaintext_file, open(\"ciphertexts.txt\", 'r') as ciphertext_file:\n",
    "    for index, (plaintext, ciphertext) in enumerate(zip(plaintext_file.readlines(), ciphertext_file.readlines())):\n",
    "        plaintext_string = [hex_to_ascii(msg)[index] for msg in plaintext.strip().split(\" \")]\n",
    "        ciphertext_string = [hex_to_ascii(msg)[index] for msg in ciphertext.strip().split(\" \")]\n",
    "      \n",
    "        for i in range(1, 127):\n",
    "            for j in range(1, 128):\n",
    "                flag = True\n",
    "                for inp, out in zip(plaintext_string, ciphertext_string):\n",
    "                    temp4=compute_power(ord(inp), i)\n",
    "                    temp5=F.Multiply(temp4, j)\n",
    "                    temp4=compute_power(temp5, i)\n",
    "                    temp5=F.Multiply(temp4, j)\n",
    "                    if(ord(out) != compute_power(temp5, i)):\n",
    "                        flag = False\n",
    "                        break\n",
    "                if(flag):\n",
    "                    E_Candidates[index].append(i)\n",
    "                    A_Candidates[index][index].append(j)\n",
    "\n",
    "\n",
    "# In[ ]:\n",
    "\n",
    "\n",
    "with open(\"plaintexts.txt\", 'r') as plaintext_file, open(\"ciphertexts.txt\", 'r') as ciphertext_file:\n",
    "    for ind, (plaintext, ciphertext) in enumerate(zip(plaintext_file.readlines(), ciphertext_file.readlines())):\n",
    "        if ind > 6 :\n",
    "            break\n",
    "\n",
    "        plaintext_string = [hex_to_ascii(msg)[ind] for msg in plaintext.strip().split(\" \")]\n",
    "        ciphertext_string = [hex_to_ascii(msg)[ind+1] for msg in ciphertext.strip().split(\" \")]\n",
    "\n",
    "        for i in range(1, 128):\n",
    "            for p1, e1 in zip(E_Candidates[ind+1], A_Candidates[ind+1][ind+1]):\n",
    "                for p2, e2 in zip(E_Candidates[ind], A_Candidates[ind][ind]):\n",
    "                    flag = True\n",
    "                    for inp, outp in zip(plaintext_string, ciphertext_string):\n",
    "                        temp4=compute_power(ord(inp), p2)\n",
    "                        temp5=F.Multiply(temp4, i)\n",
    "                        temp4=compute_power(temp5, p1)\n",
    "                        temp6=F.Multiply(temp4, e1)\n",
    "                        temp7=compute_power(ord(inp), p2)\n",
    "                        temp8=F.Multiply(temp7, e2)\n",
    "                        temp9=compute_power(temp8, p2)\n",
    "                        temp10=F.Multiply(temp9, i)\n",
    "                        temp11=F.Add(temp10 ,temp6)\n",
    "                        if(ord(outp) != compute_power(temp11, p1)):\n",
    "                            flag = False\n",
    "                            break\n",
    "                    if flag:\n",
    "                        E_Candidates[ind+1] = [p1]\n",
    "                        A_Candidates[ind+1][ind+1] = [e1]\n",
    "                        E_Candidates[ind] = [p2]\n",
    "                        A_Candidates[ind][ind] = [e2]\n",
    "                        A_Candidates[ind][ind+1] = [i]"
   ]
  },
  {
   "cell_type": "code",
   "execution_count": 5,
   "id": "ddfc018e",
   "metadata": {},
   "outputs": [],
   "source": [
    "def EAEAE (plaintext, lin_mat, exp_mat): \n",
    "    plaintext = [ord(c) for c in plaintext]\n",
    "    output=[[0]*8 for i in range(8)]\n",
    "    \n",
    "    for index, ele in enumerate(plaintext):\n",
    "        output[0][index] = compute_power(ele, exp_mat[index])\n",
    "        \n",
    "    output[1] = Linear_Transformation(lin_mat, output[0])\n",
    "    \n",
    "    for index, ele in enumerate(output[1]):\n",
    "        output[2][index] = compute_power(ele, exp_mat[index])\n",
    "    \n",
    "    output[3] = Linear_Transformation(lin_mat, output[2])\n",
    "\n",
    "    for index, ele in enumerate(output[3]):\n",
    "        output[4][index] = compute_power(ele, exp_mat[index])\n",
    "        \n",
    "    return output[4]\n",
    "    \n",
    "for indexex in range(0,6):\n",
    "    \n",
    "    offset = indexex + 2\n",
    "    exponentiation_list = [e[0] for e in E_Candidates]\n",
    "    linear_transformation_list = [[0 for i in range(8)] for j in range(8)]\n",
    "\n",
    "    for i in range(8):\n",
    "        for j in range(8):     \n",
    "            linear_transformation_list[i][j] = A_Candidates[i][j][0] if(len(A_Candidates[i][j]) != 0) else 0\n",
    "                \n",
    "    with open(\"plaintexts.txt\", 'r') as plaintext_file, open(\"ciphertexts.txt\", 'r') as ciphertext_file:\n",
    "        for index, (plaintext, ciphertext) in enumerate(zip(plaintext_file.readlines(), ciphertext_file.readlines())):\n",
    "            if(index > (7-offset)):\n",
    "                continue\n",
    "          \n",
    "            plaintext_string = [hex_to_ascii(msg) for msg in plaintext.strip().split(\" \")]\n",
    "            ciphertext_string = [hex_to_ascii(msg) for msg in ciphertext.strip().split(\" \")]\n",
    "\n",
    "            for i in range(1, 128):\n",
    "                linear_transformation_list[index][index+offset] = i\n",
    "                flag = True\n",
    "                for inps, outs in zip(plaintext_string, ciphertext_string):\n",
    "                    if EAEAE(inps, linear_transformation_list, exponentiation_list)[index+offset] != ord(outs[index+offset]):\n",
    "                        flag = False\n",
    "                        break\n",
    "                if flag==True:\n",
    "                    A_Candidates[index][index+offset] = [i]\n",
    "\n",
    "linear_transformation_list = [[0 for i in range(8)] for j in range(8)]\n",
    "\n",
    "for i in range(0,8):\n",
    "    for j in range(0,8):\n",
    "        linear_transformation_list[i][j]=0 if (len(A_Candidates[i][j]) == 0) else A_Candidates[i][j][0]"
   ]
  },
  {
   "cell_type": "code",
   "execution_count": 6,
   "id": "b5025179",
   "metadata": {},
   "outputs": [],
   "source": [
    "At = linear_transformation_list\n",
    "E = exponentiation_list\n",
    "A = [[At[j][i] for j in range(len(At))] for i in range(len(At[0]))]\n"
   ]
  },
  {
   "cell_type": "code",
   "execution_count": 7,
   "id": "1ede2124",
   "metadata": {},
   "outputs": [
    {
     "name": "stdout",
     "output_type": "stream",
     "text": [
      "[[84, 0, 0, 0, 0, 0, 0, 0], [114, 70, 0, 0, 0, 0, 0, 0], [18, 29, 43, 0, 0, 0, 0, 0], [123, 21, 3, 12, 0, 0, 0, 0], [97, 37, 6, 116, 112, 0, 0, 0], [19, 48, 30, 52, 111, 11, 0, 0], [21, 121, 8, 100, 4, 93, 27, 0], [67, 13, 81, 28, 22, 72, 28, 38]]\n"
     ]
    }
   ],
   "source": [
    "print(A)"
   ]
  },
  {
   "cell_type": "code",
   "execution_count": 8,
   "id": "331276ff",
   "metadata": {},
   "outputs": [],
   "source": [
    "block_size = 8\n",
    "F = ffield.FField(7, gen=0x83, useLUT=-1)\n",
    "A = np.array((A))\n",
    "\n",
    "augmented_A = np.zeros((block_size, block_size*2), dtype = int)\n",
    "inverse_A = np.zeros((block_size, block_size), dtype = int)\n",
    "inverse_E = np.zeros((128, 128), dtype = int)\n",
    "exponents = [[1] for i in range(0,128)]\n"
   ]
  },
  {
   "cell_type": "code",
   "execution_count": 9,
   "id": "3c1702b8",
   "metadata": {},
   "outputs": [],
   "source": [
    "for base in range(0,128):\n",
    "    temp = 1\n",
    "    for power in range(1,127):\n",
    "        result = F.Multiply(temp, base)\n",
    "        inverse_E[power][result] = base\n",
    "        temp = result\n",
    "    \n",
    "GF = galois.GF(2**7)\n",
    "A = GF(A)\n",
    "inverse_A = np.linalg.inv(A)"
   ]
  },
  {
   "cell_type": "code",
   "execution_count": 10,
   "id": "3831be89",
   "metadata": {},
   "outputs": [
    {
     "name": "stdout",
     "output_type": "stream",
     "text": [
      "Inverse EAEAE values for block 0:  [116, 115, 114, 120, 97, 112, 111, 110]\n",
      "Inverse EAEAE values for block 1:  [103, 99, 48, 48, 48, 48, 48, 48]\n",
      "The password is tsrxapongc000000\n"
     ]
    }
   ],
   "source": [
    "password = \"lhhofnjhhnmsgtfpgthqmjfritjthois\" \n",
    "decrypted_password = \"\"\n",
    "block_size = 16\n",
    "num_blocks = int(len(password) / block_size) \n",
    "\n",
    "\n",
    "def E_calculate_block_inverse(block, E):\n",
    "    return list(map(lambda b, e: inverse_E[e][b], block, E))\n",
    "\n",
    "\n",
    "\n",
    "def A_calculate_block_inverse(block, A):\n",
    "    inversed = [0] * 8\n",
    "    for i in range(8):\n",
    "        for j in range(8):\n",
    "            inversed[i] ^= F.Multiply(A[i][j], block[j])\n",
    "    return inversed\n",
    "\n",
    "i=0\n",
    "while(i<2):\n",
    "    elements = password[block_size*i:block_size*(i+1)]\n",
    "    present_Block = []\n",
    "    j=0\n",
    "    while(j<8):\n",
    "        present_Block+=[(ord(elements[2*j]) - ord('f'))*16 + (ord(elements[2*j+1]) - ord('f'))]\n",
    "        j+=1\n",
    "    \n",
    "    temp1 = A_calculate_block_inverse(E_calculate_block_inverse(present_Block, E), inverse_A)\n",
    "    EA = E_calculate_block_inverse(temp1, E)\n",
    "    \n",
    "    temp2 = A_calculate_block_inverse(EA, inverse_A)\n",
    "    EAEAE = E_calculate_block_inverse(temp2, E)\n",
    "    \n",
    "    print(\"Inverse EAEAE values for block\",str(i)+\": \",EAEAE)\n",
    "    i+=1\n",
    "    for ch in EAEAE:\n",
    "        decrypted_password += chr(ch)\n",
    "print(\"The password is\",decrypted_password)\n"
   ]
  },
  {
   "cell_type": "code",
   "execution_count": 11,
   "id": "e5d52226",
   "metadata": {},
   "outputs": [
    {
     "name": "stdout",
     "output_type": "stream",
     "text": [
      "Decrypted password: mjmimhmnlgmflultlmliifififififif\n",
      "Final password for level up: tsrxapongc\n"
     ]
    }
   ],
   "source": [
    "\n",
    "\n",
    "# Define the character sets\n",
    "s = sorted(set(\"fghijklmnopqrstu\"))\n",
    "t = sorted(set(\"fghijklm\"))\n",
    "\n",
    "# Generate the dictionary of character pairs\n",
    "dict = {}\n",
    "for i, x in enumerate(t):\n",
    "    for j, y in enumerate(s):\n",
    "        dict[i*len(s) + j] = x + y\n",
    "\n",
    "# Decrypt the password\n",
    "encrypted_password = [116, 115, 114, 120, 97, 112, 111, 110, 103, 99, 48, 48, 48, 48, 48, 48]\n",
    "password = ''.join([dict[x] for x in encrypted_password])\n",
    "\n",
    "print(\"Decrypted password:\", password)\n",
    "\n",
    "# Generate the final password\n",
    "final_password = ''.join([chr(x) for x in encrypted_password[:10]])\n",
    "\n",
    "print(\"Final password for level up:\", final_password)\n"
   ]
  },
  {
   "cell_type": "code",
   "execution_count": null,
   "id": "ac207707",
   "metadata": {},
   "outputs": [],
   "source": []
  }
 ],
 "metadata": {
  "kernelspec": {
   "display_name": "Python 3 (ipykernel)",
   "language": "python",
   "name": "python3"
  },
  "language_info": {
   "codemirror_mode": {
    "name": "ipython",
    "version": 3
   },
   "file_extension": ".py",
   "mimetype": "text/x-python",
   "name": "python",
   "nbconvert_exporter": "python",
   "pygments_lexer": "ipython3",
   "version": "3.10.5"
  }
 },
 "nbformat": 4,
 "nbformat_minor": 5
}
