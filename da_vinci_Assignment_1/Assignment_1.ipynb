{
 "cells": [
  {
   "cell_type": "code",
   "execution_count": 3,
   "id": "118f5f30",
   "metadata": {},
   "outputs": [],
   "source": [
    "cipher_txt = \"Mewa wa mey twsam iepjoys gt mey ipbya.Pa xgn iph ayy, meysy wa hgmewhr gt whmysyam wh mey iepjoys. Agjy gt mey kpmys iepjoysa vwkk oy jgsy whmysyamwhr meph mewa ghy! Mey iguy nayu tgs mewa jyaapry wa p awjfky anoamwmnmwgh iwfeys wh vewie uwrwma epby oyyh aewtmyu ox 8 fkpiya. Mey fpaavgsu wa mxSrN03uwdd vwmegnm mey dngmya.\""
   ]
  },
  {
   "cell_type": "code",
   "execution_count": 4,
   "id": "4e4456c3",
   "metadata": {},
   "outputs": [
    {
     "name": "stdout",
     "output_type": "stream",
     "text": [
      "Frequency distribution of characters in given cipher_text:\n",
      "y : 36\n",
      "m : 28\n",
      "a : 27\n",
      "w : 25\n",
      "e : 22\n",
      "g : 14\n",
      "s : 13\n",
      "p : 13\n",
      "h : 12\n",
      "i : 9\n",
      "j : 7\n",
      "o : 7\n",
      "n : 7\n",
      "t : 6\n",
      "u : 6\n",
      "r : 5\n",
      "k : 5\n",
      "v : 4\n",
      "f : 4\n",
      "x : 3\n",
      "d : 3\n",
      "b : 2\n"
     ]
    }
   ],
   "source": [
    "frequencies = {} \n",
    "txt=cipher_txt.lower()\n",
    "#Go through the every character of cipher_txt \n",
    "for char in txt: \n",
    "    if char.isalpha():\n",
    "        #if char is present as key then increment the frequency by one otherwise insert in  frequency dictionary with value as one\n",
    "        if char in frequencies: \n",
    "            frequencies[char] += 1\n",
    "        else: \n",
    "            frequencies[char] = 1\n",
    "#sort the frequency dictionary\n",
    "frequencies=dict(sorted(frequencies.items(),key= lambda x:x[1],reverse=True))\n",
    "print(\"Frequency distribution of characters in given cipher_text:\")\n",
    "for key,value in sorted(frequencies.items(),key= lambda x:x[1],reverse=True):\n",
    "    print(key ,\":\", value)\n"
   ]
  },
  {
   "cell_type": "code",
   "execution_count": 5,
   "id": "980fd4df",
   "metadata": {},
   "outputs": [],
   "source": [
    "lower_case_mapping=['s','v','','q','h','p','o','n','c','m','l','','t','u','b','a','','g','r','f','d','w','i','y','e',''];\n",
    "upper_case_mapping=['S','V','','Q','H','P','O','N','C','M','L','','T','U','B','A','','G','R','F','D','W','I','Y','E',''];"
   ]
  },
  {
   "cell_type": "code",
   "execution_count": 7,
   "id": "633d583b",
   "metadata": {},
   "outputs": [],
   "source": [
    "ans = \"\"\n",
    "for char in cipher_txt:\n",
    "    if (ord(char)>=ord('a') and ord(char)<=ord('z')):\n",
    "        char = lower_case_mapping[ord(char)-ord('a')]\n",
    "    if (ord(char)>=ord('A') and ord(char)<=ord('Z')):\n",
    "        char = upper_case_mapping[ord(char)-ord('A')]\n",
    "    ans += char;"
   ]
  },
  {
   "cell_type": "code",
   "execution_count": 8,
   "id": "b1fb0d1b",
   "metadata": {},
   "outputs": [
    {
     "data": {
      "text/plain": [
       "'This is the first chamber of the caves.As you can see, there is nothing of interest in the chamber. Some of the later chambers will be more interesting than this one! The code used for this message is a simple substitution cipher in which digits have been shifted by 8 places. The password is tyRgU03diqq without the quotes.'"
      ]
     },
     "execution_count": 8,
     "metadata": {},
     "output_type": "execute_result"
    }
   ],
   "source": [
    "ans"
   ]
  },
  {
   "cell_type": "code",
   "execution_count": null,
   "id": "941baeaa",
   "metadata": {},
   "outputs": [],
   "source": []
  }
 ],
 "metadata": {
  "kernelspec": {
   "display_name": "Python 3 (ipykernel)",
   "language": "python",
   "name": "python3"
  },
  "language_info": {
   "codemirror_mode": {
    "name": "ipython",
    "version": 3
   },
   "file_extension": ".py",
   "mimetype": "text/x-python",
   "name": "python",
   "nbconvert_exporter": "python",
   "pygments_lexer": "ipython3",
   "version": "3.10.5"
  }
 },
 "nbformat": 4,
 "nbformat_minor": 5
}
