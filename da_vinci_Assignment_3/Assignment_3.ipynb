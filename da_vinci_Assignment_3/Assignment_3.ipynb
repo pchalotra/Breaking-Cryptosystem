{
 "cells": [
  {
   "cell_type": "code",
   "execution_count": 3,
   "id": "e711ce3b",
   "metadata": {},
   "outputs": [
    {
     "name": "stdout",
     "output_type": "stream",
     "text": [
      "q: 30\n",
      "v: 29\n",
      "a: 23\n",
      "c: 22\n",
      "w: 19\n"
     ]
    }
   ],
   "source": [
    "\n",
    "from collections import Counter\n",
    "ciphertext = \"qmnjvsa nv wewc flct vprj tj tvvplvl fv xja vqildhc xmlnvc nacyclpa fc gyt vfvw. fv wgqyp, pqq pqcs y wsq rx qmnjvafy cgv tlvhf cw tyl aeuq fv xja tkbv cqnsqs. lhf avawnc cv eas fuqb qvq tc yllrqr xxwa cfy. psdc uqf avrqc gefq pyat trac xwv taa wwd dv eas flcbq. vd trawm vupq quw x decgqcwt, yq yafl vlqs yqklhq! snafq vml lhvqpawr nqg_vfusr_ec_wawy qp fn wgawdgf\"\n",
    "\n",
    "# Join all lines into a single string\n",
    "text = ''.join(filter(str.isalpha, ciphertext)).lower()\n",
    "\n",
    "##########################################################\n",
    "\n",
    "# Count the frequency of each letter in the ciphertext\n",
    "frequency = Counter(text)\n",
    "\n",
    "# Print the top 5 most frequent letters in the ciphertext\n",
    "for letter, count in frequency.most_common(5):\n",
    "    print(f\"{letter}: {count}\")\n",
    "\n",
    "##########################################################\n",
    "\n",
    "\n"
   ]
  },
  {
   "cell_type": "code",
   "execution_count": 1,
   "id": "b5ef5e30",
   "metadata": {},
   "outputs": [],
   "source": [
    "# Undo the permutation operation\n",
    "permuted = ''\n",
    "for i in range(0, len(text), 5):\n",
    "    permuted += text[i+2] + text[i+0] + text[i+3] + text[i] + text[i+1]\n",
    "\n",
    "# Replace spaces at their original positions\n",
    "spaces = []\n",
    "for i, c in enumerate(text):\n",
    "    if c == ' ':\n",
    "        spaces.append(i)\n",
    "permuted_list = list(permuted)\n",
    "for i in spaces:\n",
    "    permuted_list[i] = ' '\n",
    "permuted = ''.join(permuted_list)\n",
    "\n",
    "# Count the frequency of bigrams and trigrams\n",
    "trigrams = {}\n",
    "bigrams = {}\n",
    "words = permuted.split()\n",
    "for w in words:\n",
    "    for i in range(len(w) - 1):\n",
    "        bigram = w[i:i+2]\n",
    "        bigrams[bigram] = bigrams.get(bigram, 0) + 1\n",
    "    for i in range(len(w) - 2):\n",
    "        trigram = w[i:i+3]\n",
    "        trigrams[trigram] = trigrams.get(trigram, 0) + 1\n",
    "\n",
    "# Sort and print the frequency of bigrams and trigrams\n",
    "sorted_bigrams = sorted(bigrams.items(), key=lambda x: x[1], reverse=True)\n",
    "sorted_trigrams = sorted(trigrams.items(), key=lambda x: x[1], reverse=True)\n",
    "print(sorted_bigrams)\n",
    "print(sorted_trigrams)"
   ]
  },
  {
   "cell_type": "code",
   "execution_count": null,
   "id": "fb9a0580",
   "metadata": {},
   "outputs": [],
   "source": []
  }
 ],
 "metadata": {
  "kernelspec": {
   "display_name": "Python 3 (ipykernel)",
   "language": "python",
   "name": "python3"
  },
  "language_info": {
   "codemirror_mode": {
    "name": "ipython",
    "version": 3
   },
   "file_extension": ".py",
   "mimetype": "text/x-python",
   "name": "python",
   "nbconvert_exporter": "python",
   "pygments_lexer": "ipython3",
   "version": "3.10.5"
  }
 },
 "nbformat": 4,
 "nbformat_minor": 5
}
